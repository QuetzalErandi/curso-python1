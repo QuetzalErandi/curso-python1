{
 "cells": [
  {
   "attachments": {},
   "cell_type": "markdown",
   "metadata": {},
   "source": [
    "# CLASE 3"
   ]
  },
  {
   "attachments": {},
   "cell_type": "markdown",
   "metadata": {},
   "source": [
    "## Ciclo while"
   ]
  },
  {
   "cell_type": "code",
   "execution_count": 3,
   "metadata": {},
   "outputs": [
    {
     "name": "stdout",
     "output_type": "stream",
     "text": [
      "Se cumple la condicion\n"
     ]
    }
   ],
   "source": [
    "if True:\n",
    "    print(\"Se cumple la condicion\")"
   ]
  },
  {
   "cell_type": "code",
   "execution_count": 6,
   "metadata": {},
   "outputs": [
    {
     "name": "stdout",
     "output_type": "stream",
     "text": [
      "Se cumple la condicion\n",
      "Se cumple la condicion\n",
      "Se cumple la condicion\n",
      "Se cumple la condicion\n",
      "Se cumple la condicion\n",
      "Se cumple la condicion\n"
     ]
    }
   ],
   "source": [
    "contador = 0\n",
    "\n",
    "while contador <= 5:\n",
    "    print(\"Se cumple la condicion\")\n",
    "    contador = contador +1"
   ]
  },
  {
   "cell_type": "code",
   "execution_count": 7,
   "metadata": {},
   "outputs": [
    {
     "name": "stdout",
     "output_type": "stream",
     "text": [
      "Usuario registrado\n"
     ]
    }
   ],
   "source": [
    "auth = 0\n",
    "\n",
    "while auth == 0:\n",
    "    username = input(\"¿Cual es tu usuario?\")\n",
    "    password = input(\"Dame una contraseña\")\n",
    "\n",
    "    if len(password) < 6:\n",
    "        print(\"Necesitas crear una contraseña de mas de 6 digitos\")\n",
    "    else:\n",
    "        print(\"Usuario registrado\")\n",
    "        auth = 1"
   ]
  },
  {
   "attachments": {},
   "cell_type": "markdown",
   "metadata": {},
   "source": [
    "### FOR DE RANGO"
   ]
  },
  {
   "cell_type": "code",
   "execution_count": 8,
   "metadata": {},
   "outputs": [
    {
     "name": "stdout",
     "output_type": "stream",
     "text": [
      "0\n",
      "1\n",
      "2\n",
      "3\n",
      "4\n",
      "5\n",
      "6\n",
      "7\n",
      "8\n",
      "9\n"
     ]
    }
   ],
   "source": [
    "for i in range(10):\n",
    "    print(i)"
   ]
  },
  {
   "cell_type": "code",
   "execution_count": 9,
   "metadata": {},
   "outputs": [
    {
     "name": "stdout",
     "output_type": "stream",
     "text": [
      "5\n",
      "6\n",
      "7\n",
      "8\n",
      "9\n",
      "10\n",
      "11\n",
      "12\n",
      "13\n",
      "14\n"
     ]
    }
   ],
   "source": [
    "for i in range(5,15):\n",
    "    print(i)"
   ]
  },
  {
   "cell_type": "code",
   "execution_count": 11,
   "metadata": {},
   "outputs": [
    {
     "name": "stdout",
     "output_type": "stream",
     "text": [
      "5\n",
      "7\n",
      "9\n",
      "11\n",
      "13\n",
      "15\n",
      "17\n",
      "19\n",
      "21\n",
      "23\n"
     ]
    }
   ],
   "source": [
    "for i in range(5,25,2):\n",
    "    print(i)"
   ]
  },
  {
   "cell_type": "code",
   "execution_count": 12,
   "metadata": {},
   "outputs": [
    {
     "name": "stdout",
     "output_type": "stream",
     "text": [
      "0\n",
      "1\n",
      "2\n",
      "3\n",
      "4\n"
     ]
    }
   ],
   "source": [
    "n = int(input(\"¿Cuantas veces se repetira?\"))\n",
    "\n",
    "for i in range(n):\n",
    "    print(i) "
   ]
  },
  {
   "cell_type": "code",
   "execution_count": 13,
   "metadata": {},
   "outputs": [
    {
     "name": "stdout",
     "output_type": "stream",
     "text": [
      "Hola\n",
      "esto\n",
      "petenece\n",
      "al for\n",
      "Hola\n",
      "esto\n",
      "petenece\n",
      "al for\n",
      "Hola\n",
      "esto\n",
      "petenece\n",
      "al for\n",
      "Esto ya no\n"
     ]
    }
   ],
   "source": [
    "for i in range(3):\n",
    "    print(\"Hola\")\n",
    "    print(\"esto\")\n",
    "    print(\"petenece\")\n",
    "    print(\"al for\")\n",
    "print(\"Esto ya no\")"
   ]
  },
  {
   "cell_type": "code",
   "execution_count": 15,
   "metadata": {},
   "outputs": [
    {
     "name": "stdout",
     "output_type": "stream",
     "text": [
      "[0]\n",
      "[0, 1]\n",
      "[0, 1, 4]\n",
      "[0, 1, 4, 9]\n",
      "[0, 1, 4, 9, 16]\n",
      "[0, 1, 4, 9, 16, 25]\n",
      "[0, 1, 4, 9, 16, 25, 36]\n",
      "[0, 1, 4, 9, 16, 25, 36, 49]\n",
      "[0, 1, 4, 9, 16, 25, 36, 49, 64]\n",
      "[0, 1, 4, 9, 16, 25, 36, 49, 64, 81]\n"
     ]
    }
   ],
   "source": [
    "numeros_cuadrados = []\n",
    "for i in range(10):\n",
    "    numeros_cuadrados.append(i**2)\n",
    "    print(numeros_cuadrados)"
   ]
  },
  {
   "cell_type": "code",
   "execution_count": 16,
   "metadata": {},
   "outputs": [
    {
     "name": "stdout",
     "output_type": "stream",
     "text": [
      "Manzana\n",
      "Platano\n",
      "Pera\n",
      "Naranga\n"
     ]
    }
   ],
   "source": [
    "mis_frutas=[\"Manzana\",\"Platano\",\"Pera\",\"Naranga\"]\n",
    "\n",
    "for i in range(4):\n",
    "    print(mis_frutas[i])"
   ]
  },
  {
   "cell_type": "code",
   "execution_count": 17,
   "metadata": {},
   "outputs": [
    {
     "name": "stdout",
     "output_type": "stream",
     "text": [
      "Manzana\n",
      "Platano\n",
      "Pera\n",
      "Naranga\n"
     ]
    }
   ],
   "source": [
    "for i in range(len(mis_frutas)):\n",
    "    print(mis_frutas[i])"
   ]
  },
  {
   "attachments": {},
   "cell_type": "markdown",
   "metadata": {},
   "source": [
    "### FOR DE ELEMENTOS"
   ]
  },
  {
   "cell_type": "code",
   "execution_count": 18,
   "metadata": {},
   "outputs": [
    {
     "name": "stdout",
     "output_type": "stream",
     "text": [
      "Manzana\n",
      "Platano\n",
      "Pera\n",
      "Naranga\n"
     ]
    }
   ],
   "source": [
    "for element in mis_frutas:\n",
    "    print(element)"
   ]
  },
  {
   "cell_type": "code",
   "execution_count": 22,
   "metadata": {},
   "outputs": [
    {
     "name": "stdout",
     "output_type": "stream",
     "text": [
      "Felizidades, obtuviste 6.0 y aprobaste el semestre\n"
     ]
    }
   ],
   "source": [
    "n = int(input(\"Dame n calificaciones\"))\n",
    "\n",
    "calificasiones = []\n",
    "\n",
    "for i in range(n):\n",
    "\n",
    "    calificasion = int(input(f'Dame la calificacion {i+1}'))\n",
    "    \n",
    "    calificasiones.append(calificasion)\n",
    "\n",
    "promedio = sum(calificasiones) / len(calificasiones)\n",
    "\n",
    "if promedio >= 6:\n",
    "    print(f\"Felizidades, obtuviste {promedio} y aprobaste el semestre\")\n",
    "else:\n",
    "    print(\"F\")\n"
   ]
  },
  {
   "attachments": {},
   "cell_type": "markdown",
   "metadata": {},
   "source": [
    "## ERRORES"
   ]
  },
  {
   "cell_type": "code",
   "execution_count": 23,
   "metadata": {},
   "outputs": [
    {
     "name": "stdout",
     "output_type": "stream",
     "text": [
      "name 'suma' is not defined\n"
     ]
    }
   ],
   "source": [
    "try:\n",
    "    print(f'La suma es {suma}')\n",
    "\n",
    "except Exception as error:\n",
    "    print(error)"
   ]
  },
  {
   "cell_type": "code",
   "execution_count": 24,
   "metadata": {},
   "outputs": [
    {
     "name": "stdout",
     "output_type": "stream",
     "text": [
      "Trataste de dividir entre cero :(\n"
     ]
    }
   ],
   "source": [
    "try:\n",
    "    print(0/0)\n",
    "\n",
    "except ZeroDivisionError:\n",
    "    print(\"Trataste de dividir entre cero :(\")"
   ]
  }
 ],
 "metadata": {
  "kernelspec": {
   "display_name": "Python 3.9.1 64-bit",
   "language": "python",
   "name": "python3"
  },
  "language_info": {
   "codemirror_mode": {
    "name": "ipython",
    "version": 3
   },
   "file_extension": ".py",
   "mimetype": "text/x-python",
   "name": "python",
   "nbconvert_exporter": "python",
   "pygments_lexer": "ipython3",
   "version": "3.9.1 (tags/v3.9.1:1e5d33e, Dec  7 2020, 17:08:21) [MSC v.1927 64 bit (AMD64)]"
  },
  "orig_nbformat": 4,
  "vscode": {
   "interpreter": {
    "hash": "3d90b72f744922591e0ad6ecfa02acfb44ec815e8754004191b051d400955eea"
   }
  }
 },
 "nbformat": 4,
 "nbformat_minor": 2
}
